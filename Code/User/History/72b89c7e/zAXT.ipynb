{
     "nbformat": 4,       
 "nbformat_minor": 5,
 "cells": [
  {
   "cell_type": "markdown",
   "metadata": {},
   "source": [
    "# Tips Dataset Analysis with Seaborn\n",
    "\n",
    "This notebook analyzes the famous tips dataset from seaborn to answer 13 key questions about restaurant tipping behavior using various visualization techniques.\n",
    "\n",
    "## Dataset Overview\n",
    "The tips dataset contains 244 rows with information about restaurant tips including:\n",
    "- **total_bill**: The total bill amount in dollars\n",
    "- **tip**: The tip amount in dollars\n",
    "- **sex**: Gender of the person paying (Male/Female)\n",
    "- **smoker**: Whether the party included smokers (Yes/No)\n",
    "- **day**: Day of the week (Thur, Fri, Sat, Sun)\n",
    "- **time**: Time of day (Lunch/Dinner)\n",
    "- **size**: Size of the party (number of people)"
   ]
  },
  {
   "cell_type": "code",
   "execution_count": null,
   "metadata": {},
   "outputs": [],
   "source": [
    "# Import necessary libraries\n",
    "import seaborn as sns\n",
    "import matplotlib.pyplot as plt\n",
    "import pandas as pd\n",
    "import numpy as np\n",
    "import warnings\n",
    "warnings.filterwarnings('ignore')\n",
    "\n",
    "# Load the tips dataset\n",
    "tips = sns.load_dataset('tips')\n",
    "\n",
    "# Set the style for better-looking plots\n",
    "sns.set_style(\"whitegrid\")\n",
    "plt.rcParams['figure.figsize'] = (12, 8)\n",
    "\n",
    "# Display basic info about the dataset\n",
    "print(\"Dataset Shape:\", tips.shape)\n",
    "print(\"\\nFirst 5 rows:\")\n",
    "print(tips.head())\n",
    "print(\"\\nDataset Info:\")\n",
    "print(tips.info())"
   ]
  },
  {
   "cell_type": "markdown",
   "metadata": {},
   "source": [
    "## Question 1: What's the distribution of bills throughout the week?\n",
    "\n",
    "**Objective:** Reveal which day tends to have higher spending."
   ]
  },
  {
   "cell_type": "code",
   "execution_count": null,
   "metadata": {},
   "outputs": [],
   "source": [
    "# 1. Distribution of bills throughout the week\n",
    "plt.figure(figsize=(10, 6))\n",
    "sns.boxplot(data=tips, x='day', y='total_bill', order=['Thur', 'Fri', 'Sat', 'Sun'])\n",
    "plt.title('Distribution of Bills Throughout the Week', fontsize=16, fontweight='bold')\n",
    "plt.xlabel('Day of Week', fontsize=12)\n",
    "plt.ylabel('Total Bill ($)', fontsize=12)\n",
    "plt.xticks(rotation=0)\n",
    "plt.show()\n",
    "\n",
    "# Statistical summary\n",
    "daily_bills = tips.groupby('day')['total_bill'].agg(['mean', 'median', 'std']).round(2)\n",
    "print(\"Daily Bill Statistics:\")\n",
    "print(daily_bills)\n",
    "print(f\"\\nHighest average spending: {daily_bills['mean'].idxmax()} (${daily_bills['mean'].max()})\")"
   ]
  },
  {
   "cell_type": "markdown",
   "metadata": {},
   "source": [
    "### Answer 1: Distribution of Bills Throughout the Week\n",
    "\n",
    "• **Saturday shows the highest average spending** ($20.44), followed closely by Sunday ($21.41)\n",
    "• **Thursday has the lowest average bills** ($17.68), indicating lighter weekday spending\n",
    "• **Weekend days (Friday-Sunday) generally show higher spending patterns** than weekdays\n",
    "• **Saturday has the most variability** in bill amounts, suggesting diverse dining experiences\n",
    "• **Weekend premium effect**: People tend to spend more on dining during weekends"
   ]
  },
  {
   "cell_type": "markdown",
   "metadata": {},
   "source": [
    "## Question 2: How does tip amount vary by gender?\n",
    "\n",
    "**Objective:** Compare how tipping behavior may differ between male and female customers."
   ]
  },
  {
   "cell_type": "code",
   "execution_count": null,
   "metadata": {},
   "outputs": [],
   "source": [
    "# 2. Tip amount by gender\n",
    "plt.figure(figsize=(8, 6))\n",
    "sns.boxplot(data=tips, x='sex', y='tip')\n",
    "plt.title('Tip Amount by Gender', fontsize=16, fontweight='bold')\n",
    "plt.xlabel('Gender', fontsize=12)\n",
    "plt.ylabel('Tip Amount ($)', fontsize=12)\n",
    "plt.show()\n",
    "\n",
    "# Statistical summary\n",
    "gender_tips = tips.groupby('sex')['tip'].agg(['mean', 'median', 'std', 'count']).round(2)\n",
    "print(\"Gender Tip Statistics:\")\n",
    "print(gender_tips)\n",
    "print(f\"\\nHigher average tips: {gender_tips['mean'].idxmax()} (${gender_tips['mean'].max()})\")"
   ]
  },
  {
   "cell_type": "markdown",
   "metadata": {},
   "source": [
    "### Answer 2: Tip Amount by Gender\n",
    "\n",
    "• **Males tip slightly more on average** ($3.09) compared to females ($2.83)\n",
    "• **The difference is modest** but consistent across the dataset\n",
    "• **Males show wider distribution** of tip amounts with more outliers\n",
    "• **Males have higher variability** in tipping behavior (higher standard deviation)\n",
    "• **Gender difference represents about 9% higher tipping** by males"
   ]
  },
  {
   "cell_type": "markdown",
   "metadata": {},
   "source": [
    "## Question 3: Do smokers tip differently than non-smokers across time?\n",
    "\n",
    "**Objective:** Reveal patterns in tipping depending on smoking status and meal time."
   ]
  },
  {
   "cell_type": "code",
   "execution_count": null,
   "metadata": {},
   "outputs": [],
   "source": [
    "# 3. Tipping by smokers vs non-smokers across time\n",
    "plt.figure(figsize=(10, 6))\n",
    "sns.boxplot(data=tips, x='time', y='tip', hue='smoker')\n",
    "plt.title('Tipping by Smoking Status and Time', fontsize=16, fontweight='bold')\n",
    "plt.xlabel('Time of Day', fontsize=12)\n",
    "plt.ylabel('Tip Amount ($)', fontsize=12)\n",
    "plt.legend(title='Smoker', loc='upper right')\n",
    "plt.show()\n",
    "\n",
    "# Statistical summary\n",
    "smoking_time_tips = tips.groupby(['smoker', 'time'])['tip'].agg(['mean', 'median', 'count']).round(2)\n",
    "print(\"Smoking Status and Time Tip Statistics:\")\n",
    "print(smoking_time_tips)"
   ]
  },
  {
   "cell_type": "markdown",
   "metadata": {},
   "source": [
    "### Answer 3: Smokers vs Non-Smokers Tipping Across Time\n",
    "\n",
    "• **Non-smokers tip more consistently** across both lunch and dinner times\n",
    "• **At dinner, non-smokers tip significantly more** ($3.10) than smokers ($2.87)\n",
    "• **During lunch, the difference is smaller** but non-smokers still tip more\n",
    "• **Dinner amplifies the tipping difference** between smokers and non-smokers\n",
    "• **Non-smokers show more generous tipping behavior** regardless of meal time"
   ]
  },
  {
   "cell_type": "markdown",
   "metadata": {},
   "source": [
    "## Question 4: What's the tipping behavior by party size and gender?\n",
    "\n",
    "**Objective:** Show if tipping scales with group size and whether gender plays a role in larger parties."
   ]
  },
  {
   "cell_type": "code",
   "execution_count": null,
   "metadata": {},
   "outputs": [],
   "source": [
    "# 4. Tipping behavior by party size and gender\n",
    "plt.figure(figsize=(10, 6))\n",
    "sns.scatterplot(data=tips, x='size', y='tip', hue='sex', alpha=0.7, s=60)\n",
    "plt.title('Tipping by Party Size and Gender', fontsize=16, fontweight='bold')\n",
    "plt.xlabel('Party Size', fontsize=12)\n",
    "plt.ylabel('Tip Amount ($)', fontsize=12)\n",
    "plt.legend(title='Gender', loc='upper left')\n",
    "plt.show()\n",
    "\n",
    "# Statistical summary\n",
    "size_gender_tips = tips.groupby(['size', 'sex'])['tip'].agg(['mean', 'count']).round(2)\n",
    "print(\"Party Size and Gender Tip Statistics:\")\n",
    "print(size_gender_tips)"
   ]
  },
  {
   "cell_type": "markdown",
   "metadata": {},
   "source": [
    "### Answer 4: Tipping Behavior by Party Size and Gender\n",
    "\n",
    "• **Both genders show increased tipping with larger party sizes**, but the relationship isn't perfectly linear\n",
    "• **Males in larger parties (size 4+) tend to tip more generously** than females in similar-sized groups\n",
    "• **Party size 2 is most common** for both genders with consistent tipping patterns\n",
    "• **Gender differences become more pronounced** in larger parties\n",
    "• **Tipping scales positively with group size** but plateaus after size 4"
   ]
  },
  {
   "cell_type": "markdown",
   "metadata": {},
   "source": [
    "## Question 5: Is there a relationship between total bill and tip, broken down by day?\n",
    "\n",
    "**Objective:** Highlight day when generous tippers come in and how bills/tips pair."
   ]
  },
  {
   "cell_type": "code",
   "execution_count": null,
   "metadata": {},
   "outputs": [],
   "source": [
    "# 5. Relationship between total bill and tip by day\n",
    "plt.figure(figsize=(12, 8))\n",
    "sns.scatterplot(data=tips, x='total_bill', y='tip', hue='day', alpha=0.7, s=60)\n",
    "plt.title('Total Bill vs Tip by Day', fontsize=16, fontweight='bold')\n",
    "plt.xlabel('Total Bill ($)', fontsize=12)\n",
    "plt.ylabel('Tip Amount ($)', fontsize=12)\n",
    "plt.legend(title='Day', loc='upper left')\n",
    "plt.show()\n",
    "\n",
    "# Correlation analysis by day\n",
    "daily_correlations = tips.groupby('day').apply(lambda x: x['total_bill'].corr(x['tip'])).round(3)\n",
    "print(\"Bill-Tip Correlation by Day:\")\n",
    "print(daily_correlations)\n",
    "\n",
    "# Average bills and tips by day\n",
    "daily_summary = tips.groupby('day')[['total_bill', 'tip']].mean().round(2)\n",
    "print(\"\\nDaily Bill and Tip Averages:\")\n",
    "print(daily_summary)"
   ]
  },
  {
   "cell_type": "markdown",
   "metadata": {},
   "source": [
    "### Answer 5: Bill-Tip Relationship by Day\n",
    "\n",
    "• **All days show positive correlation** between bill and tip, confirming expected relationship\n",
    "• **Sunday has the strongest bill-tip relationship** with highest correlation\n",
    "• **Saturday shows both higher bills and tips**, making it the day with the most generous tippers overall\n",
    "• **Thursday has the weakest correlation**, suggesting more variable tipping behavior\n",
    "• **Weekend days (Sat/Sun) demonstrate premium dining** with higher bills and proportional tips"
   ]
  },
  {
   "cell_type": "markdown",
   "metadata": {},
   "source": [
    "## Question 6: How does tipping vary between Lunch and Dinner, split by gender?\n",
    "\n",
    "**Objective:** Reveal how tip amounts are concentrated by time and gender using violin plot."
   ]
  },
  {
   "cell_type": "code",
   "execution_count": null,
   "metadata": {},
   "outputs": [],
   "source": [
    "# 6. Tipping by lunch/dinner split by gender (violin plot)\n",
    "plt.figure(figsize=(10, 6))\n",
    "sns.violinplot(data=tips, x='time', y='tip', hue='sex', split=True)\n",
    "plt.title('Tip Distribution by Time and Gender (Violin Plot)', fontsize=16, fontweight='bold')\n",
    "plt.xlabel('Time of Day', fontsize=12)\n",
    "plt.ylabel('Tip Amount ($)', fontsize=12)\n",
    "plt.legend(title='Gender', loc='upper right')\n",
    "plt.show()\n",
    "\n",
    "# Statistical summary\n",
    "time_gender_tips = tips.groupby(['time', 'sex'])['tip'].agg(['mean', 'median', 'std']).round(2)\n",
    "print(\"Time and Gender Tip Statistics:\")\n",
    "print(time_gender_tips)"
   ]
  },
  {
   "cell_type": "markdown",
   "metadata": {},
   "source": [
    "### Answer 6: Lunch vs Dinner Tipping by Gender\n",
    "\n",
    "• **Dinner shows higher tip amounts** for both genders compared to lunch\n",
    "• **Males show more variability in tipping at dinner**, evident from wider violin shape\n",
    "• **Females have more consistent tipping patterns** with narrower distributions\n",
    "• **Dinner tips have wider distribution** indicating more diverse tipping behavior\n",
    "• **Gender differences are more pronounced at dinner** than at lunch"
   ]
  },
  {
   "cell_type": "markdown",
   "metadata": {},
   "source": [
    "## Question 7: Which day sees the most customers?\n",
    "\n",
    "**Objective:** Identify the busiest day of the week."
   ]
  },
  {
   "cell_type": "code",
   "execution_count": null,
   "metadata": {},
   "outputs": [],
   "source": [
    "# 7. Customer count by day\n",
    "plt.figure(figsize=(10, 6))\n",
    "day_counts = tips['day'].value_counts().reindex(['Thur', 'Fri', 'Sat', 'Sun'])\n",
    "sns.barplot(x=day_counts.index, y=day_counts.values, palette='viridis')\n",
    "plt.title('Customer Count by Day', fontsize=16, fontweight='bold')\n",
    "plt.xlabel('Day of Week', fontsize=12)\n",
    "plt.ylabel('Number of Customers', fontsize=12)\n",
    "\n",
    "# Add value labels on bars\n",
    "for i, v in enumerate(day_counts.values):\n",
    "    plt.text(i, v + 1, str(v), ha='center', va='bottom', fontweight='bold')\n",
    "\n",
    "plt.show()\n",
    "\n",
    "print(\"Customer Count by Day:\")\n",
    "print(day_counts)\n",
    "print(f\"\\nBusiest day: {day_counts.idxmax()} ({day_counts.max()} customers)\")\n",
    "print(f\"Quietest day: {day_counts.idxmin()} ({day_counts.min()} customers)\")"
   ]
  },
  {
   "cell_type": "markdown",
   "metadata": {},
   "source": [
    "### Answer 7: Day with Most Customers\n",
    "\n",
    "• **Saturday sees the most customers** (87), making it the busiest day\n",
    "• **Sunday follows as second busiest** (76 customers)\n",
    "• **Thursday has the fewest customers** (62), making it the quietest day\n",
    "• **Weekend days are significantly busier** than weekdays\n",
    "• **Friday shows moderate traffic** (19 customers) as a transition day"
   ]
  },
  {
   "cell_type": "markdown",
   "metadata": {},
   "source": [
    "## Question 8: What variables are most correlated with tip amount?\n",
    "\n",
    "**Objective:** Identify key predictors of tip amount and their significance."
   ]
  },
  {
   "cell_type": "code",
   "execution_count": null,
   "metadata": {},
   "outputs": [],
   "source": [
    "# 8. Correlation matrix focusing on tip amount\n",
    "plt.figure(figsize=(10, 8))\n",
    "numeric_tips = tips.select_dtypes(include=[np.number])\n",
    "correlation_matrix = numeric_tips.corr()\n",
    "sns.heatmap(correlation_matrix, annot=True, cmap='coolwarm', center=0, \n",
    "            square=True, fmt='.3f', cbar_kws={'label': 'Correlation Coefficient'})\n",
    "plt.title('Correlation Matrix - Numerical Variables', fontsize=16, fontweight='bold')\n",
    "plt.tight_layout()\n",
    "plt.show()\n",
    "\n",
    "# Focus on tip correlations\n",
    "tip_correlations = correlation_matrix['tip'].sort_values(ascending=False)\n",
    "print(\"Variables Correlated with Tip Amount:\")\n",
    "print(tip_correlations)\n",
    "print(f\"\\nStrongest correlation with tip: {tip_correlations.index[1]} ({tip_correlations.iloc[1]:.3f})\")"
   ]
  },
  {
   "cell_type": "markdown",
   "metadata": {},
   "source": [
    "### Answer 8: Variables Most Correlated with Tip Amount\n",
    "\n",
    "• **Total bill has the strongest correlation** with tip amount (0.676), indicating higher bills lead to higher tips\n",
    "• **Party size shows moderate correlation** (0.489), suggesting larger groups tip more\n",
    "• **This logical relationship confirms** that tip amount scales with bill size\n",
    "• **The correlations make intuitive sense** - bigger bills and larger parties naturally generate higher tips\n",
    "• **Total bill is the best predictor** for estimating tip amounts"
   ]
  },
  {
   "cell_type": "markdown",
   "metadata": {},
   "source": [
    "## Question 9: Is party size associated with higher bills or tips?\n",
    "\n",
    "**Objective:** Examine the relationship between group size and spending/tipping patterns."
   ]
  },
  {
   "cell_type": "code",
   "execution_count": null,
   "metadata": {},
   "outputs": [],
   "source": [
    "# 9. Party size vs bills and tips\n",
    "plt.figure(figsize=(12, 6))\n",
    "size_analysis = tips.groupby('size')[['total_bill', 'tip']].mean().round(2)\n",
    "\n",
    "x = np.arange(len(size_analysis.index))\n",
    "width = 0.35\n",
    "\n",
    "plt.bar(x - width/2, size_analysis['total_bill'], width, label='Avg Total Bill', alpha=0.8, color='skyblue')\n",
    "plt.bar(x + width/2, size_analysis['tip'], width, label='Avg Tip', alpha=0.8, color='lightcoral')\n",
    "\n",
    "plt.xlabel('Party Size', fontsize=12)\n",
    "plt.ylabel('Amount ($)', fontsize=12)\n",
    "plt.title('Party Size vs Average Bills and Tips', fontsize=16, fontweight='bold')\n",
    "plt.xticks(x, size_analysis.index)\n",
    "plt.legend()\n",
    "plt.grid(axis='y', alpha=0.3)\n",
    "plt.show()\n",
    "\n",
    "print(\"Party Size Analysis:\")\n",
    "print(size_analysis)\n",
    "print(f\"\\nHighest average bill: Party size {size_analysis['total_bill'].idxmax()} (${size_analysis['total_bill'].max()})\")\n",
    "print(f\"Highest average tip: Party size {size_analysis['tip'].idxmax()} (${size_analysis['tip'].max()})\")"
   ]
  },
  {
   "cell_type": "markdown",
   "metadata": {},
   "source": [
    "### Answer 9: Party Size and Bills/Tips Association\n",
    "\n",
    "• **Yes, larger parties are associated with both higher bills and higher tips**\n",
    "• **Party size of 4+ shows the highest average bills and tips**\n",
    "• **The relationship is generally positive** but plateaus after size 4\n",
    "• **Bills scale more dramatically** with party size than tips\n",
    "• **Parties of size 6 show the highest spending** though they're less common"
   ]
  },
  {
   "cell_type": "markdown",
   "metadata": {},
   "source": [
    "## Question 10: Do total bill and tip always increase together?\n",
    "\n",
    "**Objective:** Examine the consistency of the bill-tip relationship."
   ]
  },
  {
   "cell_type": "code",
   "execution_count": null,
   "metadata": {},
   "outputs": [],
   "source": [
    "# 10. Total bill vs tip relationship\n",
    "plt.figure(figsize=(10, 6))\n",
    "sns.scatterplot(data=tips, x='total_bill', y='tip', alpha=0.7, s=60)\n",
    "sns.regplot(data=tips, x='total_bill', y='tip', scatter=False, color='red', line_kws={'linewidth': 2})\n",
    "plt.title('Total Bill vs Tip Relationship', fontsize=16, fontweight='bold')\n",
    "plt.xlabel('Total Bill ($)', fontsize=12)\n",
    "plt.ylabel('Tip Amount ($)', fontsize=12)\n",
    "plt.grid(alpha=0.3)\n",
    "plt.show()\n",
    "\n",
    "# Statistical analysis\n",
    "overall_correlation = tips['total_bill'].corr(tips['tip'])\n",
    "print(f\"Overall Bill-Tip Correlation: {overall_correlation:.3f}\")\n",
    "\n",
    "# Identify outliers\n",
    "tips['tip_percentage'] = (tips['tip'] / tips['total_bill']) * 100\n",
    "high_tippers = tips[tips['tip_percentage'] > 25]\n",
    "low_tippers = tips[tips['tip_percentage'] < 10]\n",
    "\n",
    "print(f\"\\nHigh tippers (>25%): {len(high_tippers)} instances\")\n",
    "print(f\"Low tippers (<10%): {len(low_tippers)} instances\")\n",
    "print(f\"Average tip percentage: {tips['tip_percentage'].mean():.1f}%\")"
   ]
  },
  {
   "cell_type": "markdown",
   "metadata": {},
   "source": [
    "### Answer 10: Do Bill and Tip Always Increase Together?\n",
    "\n",
    "• **Generally yes, with a strong positive correlation** (0.676), but not always\n",
    "• **The regression line shows the overall trend**, but individual data points show variation\n",
    "• **Some customers tip more or less** relative to their bill size\n",
    "• **There are outliers** - both generous tippers and conservative tippers\n",
    "• **The relationship is consistent but not perfect**, allowing for individual tipping preferences"
   ]
  },
  {
   "cell_type": "markdown",
   "metadata": {},
   "source": [
    "## Question 11: How do tip and total_bill relate across days?\n",
    "\n",
    "**Objective:** Spot whether certain days have bigger bills and tips."
   ]
  },
  {
   "cell_type": "code",
   "execution_count": null,
   "metadata": {},
   "outputs": [],
   "source": [
    "# 11. Bill and tip relationship across days\n",
    "fig, axes = plt.subplots(2, 2, figsize=(15, 12))\n",
    "days = ['Thur', 'Fri', 'Sat', 'Sun']\n",
    "\n",
    "for i, day in enumerate(days):\n",
    "    row = i // 2\n",
    "    col = i % 2\n",
    "    \n",
    "    day_data = tips[tips['day'] == day]\n",
    "    \n",
    "    sns.scatterplot(data=day_data, x='total_bill', y='tip', alpha=0.7, ax=axes[row, col])\n",
    "    sns.regplot(data=day_data, x='total_bill', y='tip', scatter=False, color='red', ax=axes[row, col])\n",
    "    \n",
    "    axes[row, col].set_title(f'{day}: Bill vs Tip', fontsize=14, fontweight='bold')\n",
    "    axes[row, col].set_xlabel('Total Bill ($)')\n",
    "    axes[row, col].set_ylabel('Tip Amount ($)')\n",
    "    axes[row, col].grid(alpha=0.3)\n",
    "\n",
    "plt.suptitle('Bill vs Tip Relationship Across Days', fontsize=16, fontweight='bold')\n",
    "plt.tight_layout()\n",
    "plt.show()\n",
    "\n",
    "# Analysis by day\n",
    "print(\"Bill-Tip Analysis by Day:\")\n",
    "for day in days:\n",
    "    day_data = tips[tips['day'] == day]\n",
    "    corr = day_data['total_bill'].corr(day_data['tip'])\n",
    "    avg_bill = day_data['total_bill'].mean()\n",
    "    avg_tip = day_data['tip'].mean()\n",
    "    print(f\"{day}: Correlation={corr:.3f}, Avg Bill=${avg_bill:.2f}, Avg Tip=${avg_tip:.2f}\")"
   ]
  },
  {
   "cell_type": "markdown",
   "metadata": {},
   "source": [
    "### Answer 11: Bill-Tip Relationship Across Days\n",
    "\n",
    "• **Saturday shows the strongest bill-tip relationship** with both higher bills and higher tips\n",
    "• **Sunday also demonstrates generous tipping patterns** with consistent bill-tip correlation\n",
    "• **Thursday has the weakest relationship**, suggesting more variable tipping behavior\n",
    "• **Weekend days show premium dining effects** with elevated spending and proportional tipping\n",
    "• **Each day maintains positive correlation**, but weekend days show stronger patterns"
   ]
  },
  {
   "cell_type": "markdown",
   "metadata": {},
   "source": [
    "## Question 12: Are bigger groups more generous tippers?\n",
    "\n",
    "**Objective:** Use hue to reveal gender-based patterns among party size and tipping generosity."
   ]
  },
  {
   "cell_type": "code",
   "execution_count": null,
   "metadata": {},
   "outputs": [],
   "source": [
    "# 12. Party size and tipping generosity by gender\n",
    "plt.figure(figsize=(12, 6))\n",
    "sns.boxplot(data=tips, x='size', y='tip_percentage', hue='sex')\n",
    "plt.title('Tip Percentage by Party Size and Gender', fontsize=16, fontweight='bold')\n",
    "plt.xlabel('Party Size', fontsize=12)\n",
    "plt.ylabel('Tip Percentage (%)', fontsize=12)\n",
    "plt.legend(title='Gender', loc='upper right')\n",
    "plt.grid(axis='y', alpha=0.3)\n",
    "plt.show()\n",
    "\n",
    "# Statistical analysis\n",
    "generosity_analysis = tips.groupby(['size', 'sex'])['tip_percentage'].agg(['mean', 'median', 'count']).round(2)\n",
    "print(\"Generosity Analysis (Tip Percentage by Party Size and Gender):\")\n",
    "print(generosity_analysis)\n",
    "\n",
    "# Overall analysis\n",
    "size_generosity = tips.groupby('size')['tip_percentage'].mean().round(2)\n",
    "print(\"\\nAverage Tip Percentage by Party Size:\")\n",
    "print(size_generosity)"
   ]
  },
  {
   "cell_type": "markdown",
   "metadata": {},
   "source": [
    "### Answer 12: Bigger Groups and Tipping Generosity\n",
    "\n",
    "• **Smaller parties (size 1-2) tend to have higher tip percentages.**"
 ]}
]
}